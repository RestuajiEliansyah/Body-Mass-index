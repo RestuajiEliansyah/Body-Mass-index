{
 "cells": [
  {
   "cell_type": "code",
   "execution_count": null,
   "metadata": {},
   "outputs": [],
   "source": [
    "bb = float(input(\"Masukkan Berat Badan (kg)  :\"))\n",
    "tbcm = float(input(\"Masukkan Tinggi Badan (cm)  :\"))\n",
    "tbm = tbcm * 0.01\n",
    "bmi = (bb/(tbm**2))\n",
    "if bmi <= 18.5:\n",
    "    print(\"kurus\" + bmi)\n",
    "elif bmi <= 22.9:\n",
    "    print(\"normal\" + bmi)\n",
    "elif bmi <= 29.9:\n",
    "    print(\"gemuk\" + bmi)\n",
    "else:\n",
    "    print(\"obesitas\" + bmi)"
   ]
  },
  {
   "cell_type": "code",
   "execution_count": null,
   "metadata": {},
   "outputs": [],
   "source": []
  }
 ],
 "metadata": {
  "kernelspec": {
   "display_name": "Python 3",
   "language": "python",
   "name": "python3"
  },
  "language_info": {
   "codemirror_mode": {
    "name": "ipython",
    "version": 3
   },
   "file_extension": ".py",
   "mimetype": "text/x-python",
   "name": "python",
   "nbconvert_exporter": "python",
   "pygments_lexer": "ipython3",
   "version": "3.7.3"
  }
 },
 "nbformat": 4,
 "nbformat_minor": 2
}
